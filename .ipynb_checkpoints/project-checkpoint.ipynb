{
 "cells": [
  {
   "cell_type": "code",
   "execution_count": 1,
   "metadata": {},
   "outputs": [],
   "source": [
    "import warnings\n",
    "warnings.filterwarnings('ignore')\n",
    "import pandas as pd  \n",
    "import numpy as np  \n",
    "import seaborn as sns\n",
    "import matplotlib.pyplot as plt\n",
    "%matplotlib inline\n",
    "%config InlineBackend.figure_format = 'retina'\n",
    "import glob  \n",
    "import sys"
   ]
  },
  {
   "cell_type": "code",
   "execution_count": 3,
   "metadata": {},
   "outputs": [],
   "source": [
    "# import matplotlib.pyplot as plt\n",
    "from matplotlib import font_manager , rc\n",
    "from matplotlib import style\n",
    "style.use('ggplot')\n",
    "%matplotlib inline\n",
    "\n",
    "font_name = font_manager.FontProperties(fname='C:/Windows/Fonts/malgun.ttf').get_name()\n",
    "rc('font', family=font_name)\n",
    "plt.rc('axes', unicode_minus=False)"
   ]
  },
  {
   "cell_type": "code",
   "execution_count": 165,
   "metadata": {},
   "outputs": [],
   "source": [
    "# 경로 안의 GJ_* 파일 합치기 \n",
    "# all_data = pd.DataFrame()\n",
    "# for f in glob.glob('apt/GJ_*.xlsx'):\n",
    "#     df = pd.read_excel(f)  \n",
    "#     all_data = pd.concat([all_data, df])\n",
    "\n",
    "# # 파일저장  \n",
    "# all_data.to_excel(\"apt/all.xlsx\", header=True, index=False)"
   ]
  },
  {
   "cell_type": "code",
   "execution_count": 2,
   "metadata": {
    "scrolled": true
   },
   "outputs": [
    {
     "data": {
      "text/html": [
       "<div>\n",
       "<style scoped>\n",
       "    .dataframe tbody tr th:only-of-type {\n",
       "        vertical-align: middle;\n",
       "    }\n",
       "\n",
       "    .dataframe tbody tr th {\n",
       "        vertical-align: top;\n",
       "    }\n",
       "\n",
       "    .dataframe thead th {\n",
       "        text-align: right;\n",
       "    }\n",
       "</style>\n",
       "<table border=\"1\" class=\"dataframe\">\n",
       "  <thead>\n",
       "    <tr style=\"text-align: right;\">\n",
       "      <th></th>\n",
       "      <th>시군구</th>\n",
       "      <th>번지</th>\n",
       "      <th>본번</th>\n",
       "      <th>부번</th>\n",
       "      <th>단지명</th>\n",
       "      <th>전용면적(㎡)</th>\n",
       "      <th>계약년월</th>\n",
       "      <th>계약일</th>\n",
       "      <th>거래금액(만원)</th>\n",
       "      <th>층</th>\n",
       "      <th>건축년도</th>\n",
       "      <th>도로명</th>\n",
       "      <th>해제사유발생일</th>\n",
       "    </tr>\n",
       "  </thead>\n",
       "  <tbody>\n",
       "    <tr>\n",
       "      <th>0</th>\n",
       "      <td>광주광역시 광산구 도산동</td>\n",
       "      <td>1138-2</td>\n",
       "      <td>1138</td>\n",
       "      <td>2</td>\n",
       "      <td>대덕1</td>\n",
       "      <td>59.31</td>\n",
       "      <td>201610</td>\n",
       "      <td>15</td>\n",
       "      <td>8,600</td>\n",
       "      <td>4</td>\n",
       "      <td>1990</td>\n",
       "      <td>송도로 143</td>\n",
       "      <td>NaN</td>\n",
       "    </tr>\n",
       "    <tr>\n",
       "      <th>1</th>\n",
       "      <td>광주광역시 광산구 도산동</td>\n",
       "      <td>1138-2</td>\n",
       "      <td>1138</td>\n",
       "      <td>2</td>\n",
       "      <td>대덕1</td>\n",
       "      <td>31.59</td>\n",
       "      <td>201704</td>\n",
       "      <td>27</td>\n",
       "      <td>5,800</td>\n",
       "      <td>8</td>\n",
       "      <td>1990</td>\n",
       "      <td>송도로 143</td>\n",
       "      <td>NaN</td>\n",
       "    </tr>\n",
       "    <tr>\n",
       "      <th>2</th>\n",
       "      <td>광주광역시 광산구 도산동</td>\n",
       "      <td>1138-2</td>\n",
       "      <td>1138</td>\n",
       "      <td>2</td>\n",
       "      <td>대덕1</td>\n",
       "      <td>39.15</td>\n",
       "      <td>201704</td>\n",
       "      <td>28</td>\n",
       "      <td>6,500</td>\n",
       "      <td>8</td>\n",
       "      <td>1990</td>\n",
       "      <td>송도로 143</td>\n",
       "      <td>NaN</td>\n",
       "    </tr>\n",
       "    <tr>\n",
       "      <th>3</th>\n",
       "      <td>광주광역시 광산구 도산동</td>\n",
       "      <td>1138-2</td>\n",
       "      <td>1138</td>\n",
       "      <td>2</td>\n",
       "      <td>대덕1</td>\n",
       "      <td>39.15</td>\n",
       "      <td>201706</td>\n",
       "      <td>6</td>\n",
       "      <td>6,900</td>\n",
       "      <td>8</td>\n",
       "      <td>1990</td>\n",
       "      <td>송도로 143</td>\n",
       "      <td>NaN</td>\n",
       "    </tr>\n",
       "    <tr>\n",
       "      <th>4</th>\n",
       "      <td>광주광역시 광산구 도산동</td>\n",
       "      <td>1138-2</td>\n",
       "      <td>1138</td>\n",
       "      <td>2</td>\n",
       "      <td>대덕1</td>\n",
       "      <td>59.31</td>\n",
       "      <td>201706</td>\n",
       "      <td>27</td>\n",
       "      <td>8,000</td>\n",
       "      <td>3</td>\n",
       "      <td>1990</td>\n",
       "      <td>송도로 143</td>\n",
       "      <td>NaN</td>\n",
       "    </tr>\n",
       "  </tbody>\n",
       "</table>\n",
       "</div>"
      ],
      "text/plain": [
       "             시군구      번지    본번  부번  단지명  전용면적(㎡)    계약년월  계약일        거래금액(만원)  \\\n",
       "0  광주광역시 광산구 도산동  1138-2  1138   2  대덕1    59.31  201610   15           8,600   \n",
       "1  광주광역시 광산구 도산동  1138-2  1138   2  대덕1    31.59  201704   27           5,800   \n",
       "2  광주광역시 광산구 도산동  1138-2  1138   2  대덕1    39.15  201704   28           6,500   \n",
       "3  광주광역시 광산구 도산동  1138-2  1138   2  대덕1    39.15  201706    6           6,900   \n",
       "4  광주광역시 광산구 도산동  1138-2  1138   2  대덕1    59.31  201706   27           8,000   \n",
       "\n",
       "   층  건축년도      도로명  해제사유발생일  \n",
       "0  4  1990  송도로 143      NaN  \n",
       "1  8  1990  송도로 143      NaN  \n",
       "2  8  1990  송도로 143      NaN  \n",
       "3  8  1990  송도로 143      NaN  \n",
       "4  3  1990  송도로 143      NaN  "
      ]
     },
     "execution_count": 2,
     "metadata": {},
     "output_type": "execute_result"
    }
   ],
   "source": [
    "df = pd.read_excel(\"apt/all.xlsx\")\n",
    "df.head()"
   ]
  },
  {
   "cell_type": "code",
   "execution_count": 167,
   "metadata": {},
   "outputs": [],
   "source": [
    "# 번지 : 해당 땅에 부여된 번호\n",
    "# 본번 : 해당 건물에 부여된 번호\n",
    "# 부번 : 해당 건물에 부여된 부번호\n",
    "# 도로명 : 해당 건물과 인접한 도로명\n",
    "# 해제사유발생일 : 매매 계약이 해지된 날짜"
   ]
  },
  {
   "cell_type": "code",
   "execution_count": 4,
   "metadata": {
    "tags": []
   },
   "outputs": [
    {
     "name": "stdout",
     "output_type": "stream",
     "text": [
      "<class 'pandas.core.frame.DataFrame'>\n",
      "RangeIndex: 124637 entries, 0 to 124636\n",
      "Data columns (total 13 columns):\n",
      " #   Column    Non-Null Count   Dtype  \n",
      "---  ------    --------------   -----  \n",
      " 0   시군구       124637 non-null  object \n",
      " 1   번지        124637 non-null  object \n",
      " 2   본번        124637 non-null  int64  \n",
      " 3   부번        124637 non-null  int64  \n",
      " 4   단지명       124637 non-null  object \n",
      " 5   전용면적(㎡)   124637 non-null  float64\n",
      " 6   계약년월      124637 non-null  int64  \n",
      " 7   계약일       124637 non-null  int64  \n",
      " 8   거래금액(만원)  124637 non-null  object \n",
      " 9   층         124637 non-null  int64  \n",
      " 10  건축년도      124637 non-null  int64  \n",
      " 11  도로명       124637 non-null  object \n",
      " 12  해제사유발생일   2040 non-null    float64\n",
      "dtypes: float64(2), int64(6), object(5)\n",
      "memory usage: 12.4+ MB\n"
     ]
    }
   ],
   "source": [
    "df.info()"
   ]
  },
  {
   "cell_type": "code",
   "execution_count": 8,
   "metadata": {},
   "outputs": [
    {
     "data": {
      "text/plain": [
       "번지          0\n",
       "본번          0\n",
       "부번          0\n",
       "단지명         0\n",
       "전용면적(㎡)     0\n",
       "계약년월        0\n",
       "계약일         0\n",
       "거래금액(만원)    0\n",
       "층           0\n",
       "건축년도        0\n",
       "도로명         0\n",
       "구           0\n",
       "동           0\n",
       "dtype: int64"
      ]
     },
     "execution_count": 8,
     "metadata": {},
     "output_type": "execute_result"
    }
   ],
   "source": [
    "# df.isnull().sum(axis=0)"
   ]
  },
  {
   "cell_type": "code",
   "execution_count": 5,
   "metadata": {
    "scrolled": true
   },
   "outputs": [
    {
     "data": {
      "text/html": [
       "<div>\n",
       "<style scoped>\n",
       "    .dataframe tbody tr th:only-of-type {\n",
       "        vertical-align: middle;\n",
       "    }\n",
       "\n",
       "    .dataframe tbody tr th {\n",
       "        vertical-align: top;\n",
       "    }\n",
       "\n",
       "    .dataframe thead th {\n",
       "        text-align: right;\n",
       "    }\n",
       "</style>\n",
       "<table border=\"1\" class=\"dataframe\">\n",
       "  <thead>\n",
       "    <tr style=\"text-align: right;\">\n",
       "      <th></th>\n",
       "      <th>시군구</th>\n",
       "      <th>번지</th>\n",
       "      <th>본번</th>\n",
       "      <th>부번</th>\n",
       "      <th>단지명</th>\n",
       "      <th>전용면적(㎡)</th>\n",
       "      <th>계약년월</th>\n",
       "      <th>계약일</th>\n",
       "      <th>거래금액(만원)</th>\n",
       "      <th>층</th>\n",
       "      <th>건축년도</th>\n",
       "      <th>도로명</th>\n",
       "    </tr>\n",
       "  </thead>\n",
       "  <tbody>\n",
       "    <tr>\n",
       "      <th>0</th>\n",
       "      <td>광주광역시 광산구 도산동</td>\n",
       "      <td>1138-2</td>\n",
       "      <td>1138</td>\n",
       "      <td>2</td>\n",
       "      <td>대덕1</td>\n",
       "      <td>59.31</td>\n",
       "      <td>201610</td>\n",
       "      <td>15</td>\n",
       "      <td>8,600</td>\n",
       "      <td>4</td>\n",
       "      <td>1990</td>\n",
       "      <td>송도로 143</td>\n",
       "    </tr>\n",
       "    <tr>\n",
       "      <th>1</th>\n",
       "      <td>광주광역시 광산구 도산동</td>\n",
       "      <td>1138-2</td>\n",
       "      <td>1138</td>\n",
       "      <td>2</td>\n",
       "      <td>대덕1</td>\n",
       "      <td>31.59</td>\n",
       "      <td>201704</td>\n",
       "      <td>27</td>\n",
       "      <td>5,800</td>\n",
       "      <td>8</td>\n",
       "      <td>1990</td>\n",
       "      <td>송도로 143</td>\n",
       "    </tr>\n",
       "    <tr>\n",
       "      <th>2</th>\n",
       "      <td>광주광역시 광산구 도산동</td>\n",
       "      <td>1138-2</td>\n",
       "      <td>1138</td>\n",
       "      <td>2</td>\n",
       "      <td>대덕1</td>\n",
       "      <td>39.15</td>\n",
       "      <td>201704</td>\n",
       "      <td>28</td>\n",
       "      <td>6,500</td>\n",
       "      <td>8</td>\n",
       "      <td>1990</td>\n",
       "      <td>송도로 143</td>\n",
       "    </tr>\n",
       "    <tr>\n",
       "      <th>3</th>\n",
       "      <td>광주광역시 광산구 도산동</td>\n",
       "      <td>1138-2</td>\n",
       "      <td>1138</td>\n",
       "      <td>2</td>\n",
       "      <td>대덕1</td>\n",
       "      <td>39.15</td>\n",
       "      <td>201706</td>\n",
       "      <td>6</td>\n",
       "      <td>6,900</td>\n",
       "      <td>8</td>\n",
       "      <td>1990</td>\n",
       "      <td>송도로 143</td>\n",
       "    </tr>\n",
       "    <tr>\n",
       "      <th>4</th>\n",
       "      <td>광주광역시 광산구 도산동</td>\n",
       "      <td>1138-2</td>\n",
       "      <td>1138</td>\n",
       "      <td>2</td>\n",
       "      <td>대덕1</td>\n",
       "      <td>59.31</td>\n",
       "      <td>201706</td>\n",
       "      <td>27</td>\n",
       "      <td>8,000</td>\n",
       "      <td>3</td>\n",
       "      <td>1990</td>\n",
       "      <td>송도로 143</td>\n",
       "    </tr>\n",
       "  </tbody>\n",
       "</table>\n",
       "</div>"
      ],
      "text/plain": [
       "             시군구      번지    본번  부번  단지명  전용면적(㎡)    계약년월  계약일        거래금액(만원)  \\\n",
       "0  광주광역시 광산구 도산동  1138-2  1138   2  대덕1    59.31  201610   15           8,600   \n",
       "1  광주광역시 광산구 도산동  1138-2  1138   2  대덕1    31.59  201704   27           5,800   \n",
       "2  광주광역시 광산구 도산동  1138-2  1138   2  대덕1    39.15  201704   28           6,500   \n",
       "3  광주광역시 광산구 도산동  1138-2  1138   2  대덕1    39.15  201706    6           6,900   \n",
       "4  광주광역시 광산구 도산동  1138-2  1138   2  대덕1    59.31  201706   27           8,000   \n",
       "\n",
       "   층  건축년도      도로명  \n",
       "0  4  1990  송도로 143  \n",
       "1  8  1990  송도로 143  \n",
       "2  8  1990  송도로 143  \n",
       "3  8  1990  송도로 143  \n",
       "4  3  1990  송도로 143  "
      ]
     },
     "execution_count": 5,
     "metadata": {},
     "output_type": "execute_result"
    }
   ],
   "source": [
    "# 해제사유발생일을 통한 허위 매물 제거\n",
    "df = df[ df['해제사유발생일'].isnull() ]\n",
    "\n",
    "# 결측치 제거\n",
    "df.drop(['해제사유발생일'],axis=1,inplace=True)\n",
    "df.head()"
   ]
  },
  {
   "cell_type": "code",
   "execution_count": 6,
   "metadata": {},
   "outputs": [
    {
     "data": {
      "text/html": [
       "<div>\n",
       "<style scoped>\n",
       "    .dataframe tbody tr th:only-of-type {\n",
       "        vertical-align: middle;\n",
       "    }\n",
       "\n",
       "    .dataframe tbody tr th {\n",
       "        vertical-align: top;\n",
       "    }\n",
       "\n",
       "    .dataframe thead th {\n",
       "        text-align: right;\n",
       "    }\n",
       "</style>\n",
       "<table border=\"1\" class=\"dataframe\">\n",
       "  <thead>\n",
       "    <tr style=\"text-align: right;\">\n",
       "      <th></th>\n",
       "      <th>번지</th>\n",
       "      <th>본번</th>\n",
       "      <th>부번</th>\n",
       "      <th>단지명</th>\n",
       "      <th>전용면적(㎡)</th>\n",
       "      <th>계약년월</th>\n",
       "      <th>계약일</th>\n",
       "      <th>거래금액(만원)</th>\n",
       "      <th>층</th>\n",
       "      <th>건축년도</th>\n",
       "      <th>도로명</th>\n",
       "      <th>구</th>\n",
       "      <th>동</th>\n",
       "    </tr>\n",
       "  </thead>\n",
       "  <tbody>\n",
       "    <tr>\n",
       "      <th>0</th>\n",
       "      <td>1138-2</td>\n",
       "      <td>1138</td>\n",
       "      <td>2</td>\n",
       "      <td>대덕1</td>\n",
       "      <td>59.31</td>\n",
       "      <td>201610</td>\n",
       "      <td>15</td>\n",
       "      <td>8,600</td>\n",
       "      <td>4</td>\n",
       "      <td>1990</td>\n",
       "      <td>송도로 143</td>\n",
       "      <td>광산구</td>\n",
       "      <td>도산동</td>\n",
       "    </tr>\n",
       "    <tr>\n",
       "      <th>1</th>\n",
       "      <td>1138-2</td>\n",
       "      <td>1138</td>\n",
       "      <td>2</td>\n",
       "      <td>대덕1</td>\n",
       "      <td>31.59</td>\n",
       "      <td>201704</td>\n",
       "      <td>27</td>\n",
       "      <td>5,800</td>\n",
       "      <td>8</td>\n",
       "      <td>1990</td>\n",
       "      <td>송도로 143</td>\n",
       "      <td>광산구</td>\n",
       "      <td>도산동</td>\n",
       "    </tr>\n",
       "    <tr>\n",
       "      <th>2</th>\n",
       "      <td>1138-2</td>\n",
       "      <td>1138</td>\n",
       "      <td>2</td>\n",
       "      <td>대덕1</td>\n",
       "      <td>39.15</td>\n",
       "      <td>201704</td>\n",
       "      <td>28</td>\n",
       "      <td>6,500</td>\n",
       "      <td>8</td>\n",
       "      <td>1990</td>\n",
       "      <td>송도로 143</td>\n",
       "      <td>광산구</td>\n",
       "      <td>도산동</td>\n",
       "    </tr>\n",
       "    <tr>\n",
       "      <th>3</th>\n",
       "      <td>1138-2</td>\n",
       "      <td>1138</td>\n",
       "      <td>2</td>\n",
       "      <td>대덕1</td>\n",
       "      <td>39.15</td>\n",
       "      <td>201706</td>\n",
       "      <td>6</td>\n",
       "      <td>6,900</td>\n",
       "      <td>8</td>\n",
       "      <td>1990</td>\n",
       "      <td>송도로 143</td>\n",
       "      <td>광산구</td>\n",
       "      <td>도산동</td>\n",
       "    </tr>\n",
       "    <tr>\n",
       "      <th>4</th>\n",
       "      <td>1138-2</td>\n",
       "      <td>1138</td>\n",
       "      <td>2</td>\n",
       "      <td>대덕1</td>\n",
       "      <td>59.31</td>\n",
       "      <td>201706</td>\n",
       "      <td>27</td>\n",
       "      <td>8,000</td>\n",
       "      <td>3</td>\n",
       "      <td>1990</td>\n",
       "      <td>송도로 143</td>\n",
       "      <td>광산구</td>\n",
       "      <td>도산동</td>\n",
       "    </tr>\n",
       "  </tbody>\n",
       "</table>\n",
       "</div>"
      ],
      "text/plain": [
       "       번지    본번  부번  단지명  전용면적(㎡)    계약년월  계약일        거래금액(만원)  층  건축년도  \\\n",
       "0  1138-2  1138   2  대덕1    59.31  201610   15           8,600  4  1990   \n",
       "1  1138-2  1138   2  대덕1    31.59  201704   27           5,800  8  1990   \n",
       "2  1138-2  1138   2  대덕1    39.15  201704   28           6,500  8  1990   \n",
       "3  1138-2  1138   2  대덕1    39.15  201706    6           6,900  8  1990   \n",
       "4  1138-2  1138   2  대덕1    59.31  201706   27           8,000  3  1990   \n",
       "\n",
       "       도로명    구    동  \n",
       "0  송도로 143  광산구  도산동  \n",
       "1  송도로 143  광산구  도산동  \n",
       "2  송도로 143  광산구  도산동  \n",
       "3  송도로 143  광산구  도산동  \n",
       "4  송도로 143  광산구  도산동  "
      ]
     },
     "execution_count": 6,
     "metadata": {},
     "output_type": "execute_result"
    }
   ],
   "source": [
    "# 시군구 정리\n",
    "test = df['시군구'].str.split(\" \",expand=True) # 시군구 분할\n",
    "df['구'] = test.iloc[:,1] # '구' 열 추가\n",
    "df['동'] = test.iloc[:,2] # '동' 열 추가\n",
    "df.drop([\"시군구\"],axis=1,inplace=True) # 시군구 삭제\n",
    "df.head()"
   ]
  },
  {
   "cell_type": "code",
   "execution_count": 12,
   "metadata": {},
   "outputs": [
    {
     "data": {
      "text/html": [
       "<div>\n",
       "<style scoped>\n",
       "    .dataframe tbody tr th:only-of-type {\n",
       "        vertical-align: middle;\n",
       "    }\n",
       "\n",
       "    .dataframe tbody tr th {\n",
       "        vertical-align: top;\n",
       "    }\n",
       "\n",
       "    .dataframe thead th {\n",
       "        text-align: right;\n",
       "    }\n",
       "</style>\n",
       "<table border=\"1\" class=\"dataframe\">\n",
       "  <thead>\n",
       "    <tr style=\"text-align: right;\">\n",
       "      <th></th>\n",
       "      <th>번지</th>\n",
       "      <th>본번</th>\n",
       "      <th>부번</th>\n",
       "      <th>단지명</th>\n",
       "      <th>전용면적(㎡)</th>\n",
       "      <th>계약년월</th>\n",
       "      <th>계약일</th>\n",
       "      <th>거래금액(만원)</th>\n",
       "      <th>층</th>\n",
       "      <th>건축년도</th>\n",
       "      <th>도로명</th>\n",
       "      <th>구</th>\n",
       "      <th>동</th>\n",
       "    </tr>\n",
       "  </thead>\n",
       "  <tbody>\n",
       "    <tr>\n",
       "      <th>0</th>\n",
       "      <td>1138-2</td>\n",
       "      <td>1138</td>\n",
       "      <td>2</td>\n",
       "      <td>대덕1</td>\n",
       "      <td>59.31</td>\n",
       "      <td>201610</td>\n",
       "      <td>15</td>\n",
       "      <td>8600.0</td>\n",
       "      <td>4</td>\n",
       "      <td>1990</td>\n",
       "      <td>송도로 143</td>\n",
       "      <td>광산구</td>\n",
       "      <td>도산동</td>\n",
       "    </tr>\n",
       "    <tr>\n",
       "      <th>1</th>\n",
       "      <td>1138-2</td>\n",
       "      <td>1138</td>\n",
       "      <td>2</td>\n",
       "      <td>대덕1</td>\n",
       "      <td>31.59</td>\n",
       "      <td>201704</td>\n",
       "      <td>27</td>\n",
       "      <td>5800.0</td>\n",
       "      <td>8</td>\n",
       "      <td>1990</td>\n",
       "      <td>송도로 143</td>\n",
       "      <td>광산구</td>\n",
       "      <td>도산동</td>\n",
       "    </tr>\n",
       "    <tr>\n",
       "      <th>2</th>\n",
       "      <td>1138-2</td>\n",
       "      <td>1138</td>\n",
       "      <td>2</td>\n",
       "      <td>대덕1</td>\n",
       "      <td>39.15</td>\n",
       "      <td>201704</td>\n",
       "      <td>28</td>\n",
       "      <td>6500.0</td>\n",
       "      <td>8</td>\n",
       "      <td>1990</td>\n",
       "      <td>송도로 143</td>\n",
       "      <td>광산구</td>\n",
       "      <td>도산동</td>\n",
       "    </tr>\n",
       "    <tr>\n",
       "      <th>3</th>\n",
       "      <td>1138-2</td>\n",
       "      <td>1138</td>\n",
       "      <td>2</td>\n",
       "      <td>대덕1</td>\n",
       "      <td>39.15</td>\n",
       "      <td>201706</td>\n",
       "      <td>6</td>\n",
       "      <td>6900.0</td>\n",
       "      <td>8</td>\n",
       "      <td>1990</td>\n",
       "      <td>송도로 143</td>\n",
       "      <td>광산구</td>\n",
       "      <td>도산동</td>\n",
       "    </tr>\n",
       "    <tr>\n",
       "      <th>4</th>\n",
       "      <td>1138-2</td>\n",
       "      <td>1138</td>\n",
       "      <td>2</td>\n",
       "      <td>대덕1</td>\n",
       "      <td>59.31</td>\n",
       "      <td>201706</td>\n",
       "      <td>27</td>\n",
       "      <td>8000.0</td>\n",
       "      <td>3</td>\n",
       "      <td>1990</td>\n",
       "      <td>송도로 143</td>\n",
       "      <td>광산구</td>\n",
       "      <td>도산동</td>\n",
       "    </tr>\n",
       "  </tbody>\n",
       "</table>\n",
       "</div>"
      ],
      "text/plain": [
       "       번지    본번  부번  단지명  전용면적(㎡)    계약년월  계약일  거래금액(만원)  층  건축년도      도로명  \\\n",
       "0  1138-2  1138   2  대덕1    59.31  201610   15    8600.0  4  1990  송도로 143   \n",
       "1  1138-2  1138   2  대덕1    31.59  201704   27    5800.0  8  1990  송도로 143   \n",
       "2  1138-2  1138   2  대덕1    39.15  201704   28    6500.0  8  1990  송도로 143   \n",
       "3  1138-2  1138   2  대덕1    39.15  201706    6    6900.0  8  1990  송도로 143   \n",
       "4  1138-2  1138   2  대덕1    59.31  201706   27    8000.0  3  1990  송도로 143   \n",
       "\n",
       "     구    동  \n",
       "0  광산구  도산동  \n",
       "1  광산구  도산동  \n",
       "2  광산구  도산동  \n",
       "3  광산구  도산동  \n",
       "4  광산구  도산동  "
      ]
     },
     "execution_count": 12,
     "metadata": {},
     "output_type": "execute_result"
    }
   ],
   "source": [
    "df['거래금액(만원)'] = df['거래금액(만원)'].str.replace(pat=r'[^\\w]', repl=r'', regex=True).astype(\"float\")\n",
    "df.head()"
   ]
  },
  {
   "cell_type": "code",
   "execution_count": 13,
   "metadata": {},
   "outputs": [
    {
     "data": {
      "text/html": [
       "<div>\n",
       "<style scoped>\n",
       "    .dataframe tbody tr th:only-of-type {\n",
       "        vertical-align: middle;\n",
       "    }\n",
       "\n",
       "    .dataframe tbody tr th {\n",
       "        vertical-align: top;\n",
       "    }\n",
       "\n",
       "    .dataframe thead th {\n",
       "        text-align: right;\n",
       "    }\n",
       "</style>\n",
       "<table border=\"1\" class=\"dataframe\">\n",
       "  <thead>\n",
       "    <tr style=\"text-align: right;\">\n",
       "      <th></th>\n",
       "      <th>번지</th>\n",
       "      <th>본번</th>\n",
       "      <th>부번</th>\n",
       "      <th>단지명</th>\n",
       "      <th>전용면적(㎡)</th>\n",
       "      <th>계약년월</th>\n",
       "      <th>계약일</th>\n",
       "      <th>거래금액(만원)</th>\n",
       "      <th>층</th>\n",
       "      <th>건축년도</th>\n",
       "      <th>도로명</th>\n",
       "      <th>구</th>\n",
       "      <th>동</th>\n",
       "      <th>면적(㎡)당 가격</th>\n",
       "    </tr>\n",
       "  </thead>\n",
       "  <tbody>\n",
       "    <tr>\n",
       "      <th>0</th>\n",
       "      <td>1138-2</td>\n",
       "      <td>1138</td>\n",
       "      <td>2</td>\n",
       "      <td>대덕1</td>\n",
       "      <td>59.31</td>\n",
       "      <td>201610</td>\n",
       "      <td>15</td>\n",
       "      <td>8600.0</td>\n",
       "      <td>4</td>\n",
       "      <td>1990</td>\n",
       "      <td>송도로 143</td>\n",
       "      <td>광산구</td>\n",
       "      <td>도산동</td>\n",
       "      <td>145</td>\n",
       "    </tr>\n",
       "    <tr>\n",
       "      <th>1</th>\n",
       "      <td>1138-2</td>\n",
       "      <td>1138</td>\n",
       "      <td>2</td>\n",
       "      <td>대덕1</td>\n",
       "      <td>31.59</td>\n",
       "      <td>201704</td>\n",
       "      <td>27</td>\n",
       "      <td>5800.0</td>\n",
       "      <td>8</td>\n",
       "      <td>1990</td>\n",
       "      <td>송도로 143</td>\n",
       "      <td>광산구</td>\n",
       "      <td>도산동</td>\n",
       "      <td>184</td>\n",
       "    </tr>\n",
       "    <tr>\n",
       "      <th>2</th>\n",
       "      <td>1138-2</td>\n",
       "      <td>1138</td>\n",
       "      <td>2</td>\n",
       "      <td>대덕1</td>\n",
       "      <td>39.15</td>\n",
       "      <td>201704</td>\n",
       "      <td>28</td>\n",
       "      <td>6500.0</td>\n",
       "      <td>8</td>\n",
       "      <td>1990</td>\n",
       "      <td>송도로 143</td>\n",
       "      <td>광산구</td>\n",
       "      <td>도산동</td>\n",
       "      <td>166</td>\n",
       "    </tr>\n",
       "    <tr>\n",
       "      <th>3</th>\n",
       "      <td>1138-2</td>\n",
       "      <td>1138</td>\n",
       "      <td>2</td>\n",
       "      <td>대덕1</td>\n",
       "      <td>39.15</td>\n",
       "      <td>201706</td>\n",
       "      <td>6</td>\n",
       "      <td>6900.0</td>\n",
       "      <td>8</td>\n",
       "      <td>1990</td>\n",
       "      <td>송도로 143</td>\n",
       "      <td>광산구</td>\n",
       "      <td>도산동</td>\n",
       "      <td>176</td>\n",
       "    </tr>\n",
       "    <tr>\n",
       "      <th>4</th>\n",
       "      <td>1138-2</td>\n",
       "      <td>1138</td>\n",
       "      <td>2</td>\n",
       "      <td>대덕1</td>\n",
       "      <td>59.31</td>\n",
       "      <td>201706</td>\n",
       "      <td>27</td>\n",
       "      <td>8000.0</td>\n",
       "      <td>3</td>\n",
       "      <td>1990</td>\n",
       "      <td>송도로 143</td>\n",
       "      <td>광산구</td>\n",
       "      <td>도산동</td>\n",
       "      <td>135</td>\n",
       "    </tr>\n",
       "  </tbody>\n",
       "</table>\n",
       "</div>"
      ],
      "text/plain": [
       "       번지    본번  부번  단지명  전용면적(㎡)    계약년월  계약일  거래금액(만원)  층  건축년도      도로명  \\\n",
       "0  1138-2  1138   2  대덕1    59.31  201610   15    8600.0  4  1990  송도로 143   \n",
       "1  1138-2  1138   2  대덕1    31.59  201704   27    5800.0  8  1990  송도로 143   \n",
       "2  1138-2  1138   2  대덕1    39.15  201704   28    6500.0  8  1990  송도로 143   \n",
       "3  1138-2  1138   2  대덕1    39.15  201706    6    6900.0  8  1990  송도로 143   \n",
       "4  1138-2  1138   2  대덕1    59.31  201706   27    8000.0  3  1990  송도로 143   \n",
       "\n",
       "     구    동  면적(㎡)당 가격  \n",
       "0  광산구  도산동        145  \n",
       "1  광산구  도산동        184  \n",
       "2  광산구  도산동        166  \n",
       "3  광산구  도산동        176  \n",
       "4  광산구  도산동        135  "
      ]
     },
     "execution_count": 13,
     "metadata": {},
     "output_type": "execute_result"
    }
   ],
   "source": [
    "# 면적당 가격 계산\n",
    "df['면적(㎡)당 가격'] = round(df['거래금액(만원)'] / df['전용면적(㎡)']).astype(\"int\")\n",
    "df.head()"
   ]
  },
  {
   "cell_type": "code",
   "execution_count": 14,
   "metadata": {},
   "outputs": [
    {
     "data": {
      "text/plain": [
       "(1028, 710, 60, 1152, 912)"
      ]
     },
     "execution_count": 14,
     "metadata": {},
     "output_type": "execute_result"
    }
   ],
   "source": [
    "df[\"번지\"].nunique(), df[\"본번\"].nunique(), df[\"부번\"].nunique(), df[\"도로명\"].nunique(),df[\"단지명\"].nunique()"
   ]
  },
  {
   "cell_type": "code",
   "execution_count": 15,
   "metadata": {},
   "outputs": [
    {
     "data": {
      "text/plain": [
       "(5, 83)"
      ]
     },
     "execution_count": 15,
     "metadata": {},
     "output_type": "execute_result"
    }
   ],
   "source": [
    "df[\"구\"].nunique(), df[\"동\"].nunique()"
   ]
  },
  {
   "cell_type": "code",
   "execution_count": 16,
   "metadata": {},
   "outputs": [
    {
     "data": {
      "text/plain": [
       "<matplotlib.collections.PathCollection at 0x19a1587de80>"
      ]
     },
     "execution_count": 16,
     "metadata": {},
     "output_type": "execute_result"
    },
    {
     "data": {
      "image/png": "[encoded data removed]",
      "text/plain": [
       "<Figure size 432x288 with 1 Axes>"
      ]
     },
     "metadata": {
      "image/png": {
       "height": 249,
       "width": 389
      },
      "needs_background": "light"
     },
     "output_type": "display_data"
    }
   ],
   "source": [
    "plt.scatter(df['전용면적(㎡)'], df['거래금액(만원)'] )"
   ]
  },
  {
   "cell_type": "code",
   "execution_count": 17,
   "metadata": {},
   "outputs": [
    {
     "data": {
      "text/plain": [
       "(16, 14)"
      ]
     },
     "execution_count": 17,
     "metadata": {},
     "output_type": "execute_result"
    }
   ],
   "source": [
    "# 지나치게 적은 분포\n",
    "df[ df[\"전용면적(㎡)\"] > 200 ].shape"
   ]
  },
  {
   "cell_type": "code",
   "execution_count": 18,
   "metadata": {},
   "outputs": [],
   "source": [
    "mask = df[ df[\"전용면적(㎡)\"] > 200 ].index\n",
    "df.drop(mask, axis=0, inplace=True)"
   ]
  },
  {
   "cell_type": "code",
   "execution_count": 19,
   "metadata": {},
   "outputs": [
    {
     "data": {
      "text/plain": [
       "<AxesSubplot:xlabel='면적(㎡)당 가격', ylabel='Density'>"
      ]
     },
     "execution_count": 19,
     "metadata": {},
     "output_type": "execute_result"
    },
    {
     "data": {
      "image/png": "[encoded data removed]",
      "text/plain": [
       "<Figure size 432x288 with 1 Axes>"
      ]
     },
     "metadata": {
      "image/png": {
       "height": 265,
       "width": 405
      },
      "needs_background": "light"
     },
     "output_type": "display_data"
    }
   ],
   "source": [
    "sns.distplot( df['면적(㎡)당 가격'] )"
   ]
  },
  {
   "cell_type": "code",
   "execution_count": 20,
   "metadata": {},
   "outputs": [
    {
     "data": {
      "text/plain": [
       "<AxesSubplot:xlabel='거래금액(만원)', ylabel='Density'>"
      ]
     },
     "execution_count": 20,
     "metadata": {},
     "output_type": "execute_result"
    },
    {
     "data": {
      "image/png": "[encoded data removed]",
      "text/plain": [
       "<Figure size 432x288 with 1 Axes>"
      ]
     },
     "metadata": {
      "image/png": {
       "height": 276,
       "width": 378
      },
      "needs_background": "light"
     },
     "output_type": "display_data"
    }
   ],
   "source": [
    "sns.distplot( df['거래금액(만원)'] )"
   ]
  },
  {
   "cell_type": "code",
   "execution_count": 21,
   "metadata": {},
   "outputs": [
    {
     "data": {
      "text/plain": [
       "<AxesSubplot:xlabel='거래금액(만원)', ylabel='Density'>"
      ]
     },
     "execution_count": 21,
     "metadata": {},
     "output_type": "execute_result"
    },
    {
     "data": {
      "image/png": "[encoded data removed]",
      "text/plain": [
       "<Figure size 432x288 with 1 Axes>"
      ]
     },
     "metadata": {
      "image/png": {
       "height": 265,
       "width": 385
      },
      "needs_background": "light"
     },
     "output_type": "display_data"
    }
   ],
   "source": [
    "sns.distplot( np.log1p(df['거래금액(만원)']) )"
   ]
  },
  {
   "cell_type": "code",
   "execution_count": 22,
   "metadata": {},
   "outputs": [
    {
     "data": {
      "text/html": [
       "<div>\n",
       "<style scoped>\n",
       "    .dataframe tbody tr th:only-of-type {\n",
       "        vertical-align: middle;\n",
       "    }\n",
       "\n",
       "    .dataframe tbody tr th {\n",
       "        vertical-align: top;\n",
       "    }\n",
       "\n",
       "    .dataframe thead th {\n",
       "        text-align: right;\n",
       "    }\n",
       "</style>\n",
       "<table border=\"1\" class=\"dataframe\">\n",
       "  <thead>\n",
       "    <tr style=\"text-align: right;\">\n",
       "      <th></th>\n",
       "      <th>번지</th>\n",
       "      <th>본번</th>\n",
       "      <th>부번</th>\n",
       "      <th>단지명</th>\n",
       "      <th>전용면적(㎡)</th>\n",
       "      <th>계약년월</th>\n",
       "      <th>계약일</th>\n",
       "      <th>거래금액(만원)</th>\n",
       "      <th>층</th>\n",
       "      <th>건축년도</th>\n",
       "      <th>도로명</th>\n",
       "      <th>구</th>\n",
       "      <th>동</th>\n",
       "      <th>면적(㎡)당 가격</th>\n",
       "      <th>거래금액</th>\n",
       "    </tr>\n",
       "  </thead>\n",
       "  <tbody>\n",
       "    <tr>\n",
       "      <th>0</th>\n",
       "      <td>1138-2</td>\n",
       "      <td>1138</td>\n",
       "      <td>2</td>\n",
       "      <td>대덕1</td>\n",
       "      <td>59.31</td>\n",
       "      <td>201610</td>\n",
       "      <td>15</td>\n",
       "      <td>8600.0</td>\n",
       "      <td>4</td>\n",
       "      <td>1990</td>\n",
       "      <td>송도로 143</td>\n",
       "      <td>광산구</td>\n",
       "      <td>도산동</td>\n",
       "      <td>145</td>\n",
       "      <td>9.059634</td>\n",
       "    </tr>\n",
       "    <tr>\n",
       "      <th>1</th>\n",
       "      <td>1138-2</td>\n",
       "      <td>1138</td>\n",
       "      <td>2</td>\n",
       "      <td>대덕1</td>\n",
       "      <td>31.59</td>\n",
       "      <td>201704</td>\n",
       "      <td>27</td>\n",
       "      <td>5800.0</td>\n",
       "      <td>8</td>\n",
       "      <td>1990</td>\n",
       "      <td>송도로 143</td>\n",
       "      <td>광산구</td>\n",
       "      <td>도산동</td>\n",
       "      <td>184</td>\n",
       "      <td>8.665786</td>\n",
       "    </tr>\n",
       "    <tr>\n",
       "      <th>2</th>\n",
       "      <td>1138-2</td>\n",
       "      <td>1138</td>\n",
       "      <td>2</td>\n",
       "      <td>대덕1</td>\n",
       "      <td>39.15</td>\n",
       "      <td>201704</td>\n",
       "      <td>28</td>\n",
       "      <td>6500.0</td>\n",
       "      <td>8</td>\n",
       "      <td>1990</td>\n",
       "      <td>송도로 143</td>\n",
       "      <td>광산구</td>\n",
       "      <td>도산동</td>\n",
       "      <td>166</td>\n",
       "      <td>8.779711</td>\n",
       "    </tr>\n",
       "    <tr>\n",
       "      <th>3</th>\n",
       "      <td>1138-2</td>\n",
       "      <td>1138</td>\n",
       "      <td>2</td>\n",
       "      <td>대덕1</td>\n",
       "      <td>39.15</td>\n",
       "      <td>201706</td>\n",
       "      <td>6</td>\n",
       "      <td>6900.0</td>\n",
       "      <td>8</td>\n",
       "      <td>1990</td>\n",
       "      <td>송도로 143</td>\n",
       "      <td>광산구</td>\n",
       "      <td>도산동</td>\n",
       "      <td>176</td>\n",
       "      <td>8.839422</td>\n",
       "    </tr>\n",
       "    <tr>\n",
       "      <th>4</th>\n",
       "      <td>1138-2</td>\n",
       "      <td>1138</td>\n",
       "      <td>2</td>\n",
       "      <td>대덕1</td>\n",
       "      <td>59.31</td>\n",
       "      <td>201706</td>\n",
       "      <td>27</td>\n",
       "      <td>8000.0</td>\n",
       "      <td>3</td>\n",
       "      <td>1990</td>\n",
       "      <td>송도로 143</td>\n",
       "      <td>광산구</td>\n",
       "      <td>도산동</td>\n",
       "      <td>135</td>\n",
       "      <td>8.987322</td>\n",
       "    </tr>\n",
       "  </tbody>\n",
       "</table>\n",
       "</div>"
      ],
      "text/plain": [
       "       번지    본번  부번  단지명  전용면적(㎡)    계약년월  계약일  거래금액(만원)  층  건축년도      도로명  \\\n",
       "0  1138-2  1138   2  대덕1    59.31  201610   15    8600.0  4  1990  송도로 143   \n",
       "1  1138-2  1138   2  대덕1    31.59  201704   27    5800.0  8  1990  송도로 143   \n",
       "2  1138-2  1138   2  대덕1    39.15  201704   28    6500.0  8  1990  송도로 143   \n",
       "3  1138-2  1138   2  대덕1    39.15  201706    6    6900.0  8  1990  송도로 143   \n",
       "4  1138-2  1138   2  대덕1    59.31  201706   27    8000.0  3  1990  송도로 143   \n",
       "\n",
       "     구    동  면적(㎡)당 가격      거래금액  \n",
       "0  광산구  도산동        145  9.059634  \n",
       "1  광산구  도산동        184  8.665786  \n",
       "2  광산구  도산동        166  8.779711  \n",
       "3  광산구  도산동        176  8.839422  \n",
       "4  광산구  도산동        135  8.987322  "
      ]
     },
     "execution_count": 22,
     "metadata": {},
     "output_type": "execute_result"
    }
   ],
   "source": [
    "df['거래금액'] = np.log1p(df['거래금액(만원)'])\n",
    "df.head()"
   ]
  },
  {
   "cell_type": "code",
   "execution_count": null,
   "metadata": {},
   "outputs": [],
   "source": [
    "# 아파트 층수가 가격에 유의미한수치가 있는가?\n",
    "# https://blog.naver.com/together_sh/222468508377\n",
    "# 중간층이 가장 인기가 많고 비싸다"
   ]
  },
  {
   "cell_type": "code",
   "execution_count": 23,
   "metadata": {},
   "outputs": [],
   "source": [
    "# 모델\n",
    "from sklearn.linear_model import LinearRegression, Ridge, Lasso\n",
    "from sklearn.model_selection import train_test_split\n",
    "from sklearn.metrics import mean_squared_error\n",
    "from sklearn.ensemble import RandomForestRegressor"
   ]
  },
  {
   "cell_type": "code",
   "execution_count": 24,
   "metadata": {},
   "outputs": [],
   "source": [
    "def get_rmse(model):\n",
    "    pred = model.predict(x_test)\n",
    "    mse = mean_squared_error(y_test , pred)\n",
    "    rmse = np.sqrt(mse)\n",
    "    print('{0} 로그 변환된 RMSE: {1}'.format(model.__class__.__name__,np.round(rmse, 3)))\n",
    "    return rmse\n",
    "\n",
    "def get_rmses(models):\n",
    "    rmses = [ ]\n",
    "    for model in models:\n",
    "        rmse = get_rmse(model)\n",
    "        rmses.append(rmse)\n",
    "    return rmses"
   ]
  },
  {
   "cell_type": "code",
   "execution_count": 25,
   "metadata": {},
   "outputs": [
    {
     "name": "stdout",
     "output_type": "stream",
     "text": [
      "RandomForestRegressor 로그 변환된 RMSE: 0.08\n",
      "LinearRegression 로그 변환된 RMSE: 0.235\n",
      "Ridge 로그 변환된 RMSE: 0.235\n",
      "Lasso 로그 변환된 RMSE: 0.308\n"
     ]
    },
    {
     "data": {
      "text/plain": [
       "[0.08038357967133489,\n",
       " 0.23488385575173323,\n",
       " 0.23488884502876195,\n",
       " 0.3077237753064724]"
      ]
     },
     "execution_count": 25,
     "metadata": {},
     "output_type": "execute_result"
    }
   ],
   "source": [
    "X = df.drop(['거래금액(만원)','거래금액','면적(㎡)당 가격','계약일','번지','본번','부번','단지명','도로명'],axis=1)\n",
    "x = pd.get_dummies(X)\n",
    "y = df['거래금액']\n",
    "x_train, x_test, y_train, y_test = train_test_split(x, y, test_size=0.2, random_state=42)\n",
    "\n",
    "tree_reg = RandomForestRegressor(random_state=0).fit(x_train, y_train)\n",
    "lr_reg = LinearRegression().fit(x_train, y_train)\n",
    "ridge_reg = Ridge().fit(x_train, y_train)\n",
    "lasso_reg = Lasso().fit(x_train, y_train)\n",
    "\n",
    "get_rmses( [tree_reg, lr_reg, ridge_reg, lasso_reg] )"
   ]
  },
  {
   "cell_type": "code",
   "execution_count": 1,
   "metadata": {},
   "outputs": [
    {
     "ename": "NameError",
     "evalue": "name 'X' is not defined",
     "output_type": "error",
     "traceback": [
      "\u001b[1;31m---------------------------------------------------------------------------\u001b[0m",
      "\u001b[1;31mNameError\u001b[0m                                 Traceback (most recent call last)",
      "\u001b[1;32m<ipython-input-1-b5fec669aca1>\u001b[0m in \u001b[0;36m<module>\u001b[1;34m\u001b[0m\n\u001b[1;32m----> 1\u001b[1;33m \u001b[0mX\u001b[0m\u001b[1;33m\u001b[0m\u001b[1;33m\u001b[0m\u001b[0m\n\u001b[0m",
      "\u001b[1;31mNameError\u001b[0m: name 'X' is not defined"
     ]
    }
   ],
   "source": [
    "X"
   ]
  },
  {
   "cell_type": "code",
   "execution_count": 26,
   "metadata": {},
   "outputs": [],
   "source": [
    "from sklearn.model_selection import GridSearchCV\n",
    "\n",
    "def print_best_params(model, params):\n",
    "  grid_search = GridSearchCV(model, param_grid=params, \n",
    "                             scoring='neg_mean_squared_error', cv=5)\n",
    "  grid_search.fit(x, y)\n",
    "  rmse = np.sqrt( -1 * grid_search.best_score_ )\n",
    "  print(f'{model.__class__.__name__} CV RMSE AVG: {rmse:.3f},',\n",
    "        f' Params: {grid_search.best_params_}')\n",
    "  return grid_search.best_estimator_"
   ]
  },
  {
   "cell_type": "code",
   "execution_count": 27,
   "metadata": {},
   "outputs": [
    {
     "name": "stdout",
     "output_type": "stream",
     "text": [
      "Ridge CV RMSE AVG: 0.243,  Params: {'alpha': 10}\n",
      "Lasso CV RMSE AVG: 0.250,  Params: {'alpha': 0.001}\n"
     ]
    }
   ],
   "source": [
    "param_ridge = { 'alpha':[0.05, 0.1, 1, 5, 8, 10, 12, 15, 20] }\n",
    "param_lasso = { 'alpha':[0.001, 0.005, 0.008, 0.05, 0.03, 0.1, 0.5, 1,5, 10] }\n",
    "ridge_reg = print_best_params(ridge_reg, param_ridge)\n",
    "lasso_reg = print_best_params(lasso_reg, param_lasso)"
   ]
  },
  {
   "cell_type": "code",
   "execution_count": 28,
   "metadata": {},
   "outputs": [
    {
     "name": "stdout",
     "output_type": "stream",
     "text": [
      "Ridge 로그 변환된 RMSE: 0.235\n",
      "Lasso 로그 변환된 RMSE: 0.245\n"
     ]
    },
    {
     "data": {
      "text/plain": [
       "[0.23477482682373538, 0.24533040547099025]"
      ]
     },
     "execution_count": 28,
     "metadata": {},
     "output_type": "execute_result"
    }
   ],
   "source": [
    "get_rmses( [ridge_reg, lasso_reg] )"
   ]
  },
  {
   "cell_type": "code",
   "execution_count": 29,
   "metadata": {},
   "outputs": [
    {
     "data": {
      "text/plain": [
       "0.23667598102031406"
      ]
     },
     "execution_count": 29,
     "metadata": {},
     "output_type": "execute_result"
    }
   ],
   "source": [
    "pred_ridge = ridge_reg.predict(x_test)\n",
    "pred_lasso = lasso_reg.predict(x_test)\n",
    "\n",
    "pred = (0.6 * pred_ridge) + (0.4 * pred_lasso)\n",
    "rmse = np.sqrt( mean_squared_error(y_test, pred) )\n",
    "rmse"
   ]
  },
  {
   "cell_type": "code",
   "execution_count": 30,
   "metadata": {},
   "outputs": [],
   "source": [
    "import pickle\n",
    "# my_regressor 객체 저장.\n",
    "with open(\"my_regressor.pkl\",\"wb\") as f:\n",
    "    pickle.dump(tree_reg, f)\n",
    "\n",
    "# my_scaler 객체 저장.\n",
    "with open(\"my_scaler.pkl\",\"wb\") as f:\n",
    "    pickle.dump(x, f)"
   ]
  },
  {
   "cell_type": "code",
   "execution_count": null,
   "metadata": {},
   "outputs": [],
   "source": []
  }
 ],
 "metadata": {
  "kernelspec": {
   "display_name": "Python 3",
   "language": "python",
   "name": "python3"
  },
  "language_info": {
   "codemirror_mode": {
    "name": "ipython",
    "version": 3
   },
   "file_extension": ".py",
   "mimetype": "text/x-python",
   "name": "python",
   "nbconvert_exporter": "python",
   "pygments_lexer": "ipython3",
   "version": "3.8.8"
  }
 },
 "nbformat": 4,
 "nbformat_minor": 4
}
